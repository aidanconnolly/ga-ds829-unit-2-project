{
 "cells": [
  {
   "cell_type": "markdown",
   "metadata": {},
   "source": [
    "# Python Homework with Chipotle data\n",
    "https://github.com/TheUpshot/chipotle\n",
    "\n",
    "For project two, you will complete a serious of exercises exploring [order data from Chipotle](https://github.com/TheUpshot/chipotle), compliments of the New York Times's \"The Upshot.\"\n",
    "\n",
    "For these exercises, you are conducting basic exploratory data analysis (Pandas not required) to understand the basics of Chipotle's order data: how many orders are being made, what is the average price per order, how many different ingredients, etc. These allow you to conduct business analyst skills while becoming comfortable with Python."
   ]
  },
  {
   "cell_type": "code",
   "execution_count": null,
   "metadata": {
    "collapsed": true
   },
   "outputs": [],
   "source": []
  },
  {
   "cell_type": "code",
   "execution_count": null,
   "metadata": {
    "collapsed": true
   },
   "outputs": [],
   "source": []
  },
  {
   "cell_type": "markdown",
   "metadata": {},
   "source": [
    "## BASIC LEVEL"
   ]
  },
  {
   "cell_type": "markdown",
   "metadata": {},
   "source": [
    "### PART 1: Read in the file with csv.reader() and store it in an object called 'file_nested_list'.\n",
    "\n",
    "Hint: This is a TSV file, and csv.reader() needs to be told how to handle it.\n",
    "      https://docs.python.org/2/library/csv.html"
   ]
  },
  {
   "cell_type": "code",
   "execution_count": 1,
   "metadata": {
    "collapsed": true
   },
   "outputs": [],
   "source": [
    "import csv"
   ]
  },
  {
   "cell_type": "code",
   "execution_count": 2,
   "metadata": {
    "collapsed": true
   },
   "outputs": [],
   "source": [
    "# specify that the delimiter is a tab character\n",
    "with open('chipotle.tsv', mode='rU') as f:\n",
    "    file_nested_list = [row for row in csv.reader(f, delimiter='\\t')]"
   ]
  },
  {
   "cell_type": "markdown",
   "metadata": {},
   "source": [
    "### PART 2: Separate 'file_nested_list' into the 'header' and the 'data'.\n"
   ]
  },
  {
   "cell_type": "code",
   "execution_count": 3,
   "metadata": {
    "collapsed": true
   },
   "outputs": [],
   "source": [
    "header = file_nested_list[0]"
   ]
  },
  {
   "cell_type": "code",
   "execution_count": 4,
   "metadata": {
    "collapsed": true
   },
   "outputs": [],
   "source": [
    "data = file_nested_list[1:]"
   ]
  },
  {
   "cell_type": "markdown",
   "metadata": {},
   "source": [
    "## INTERMEDIATE LEVEL"
   ]
  },
  {
   "cell_type": "markdown",
   "metadata": {},
   "source": [
    "### PART 3: Calculate the average price of an order.\n",
    "\n",
    "Hint: Examine the data to see if the 'quantity' column is relevant to this calculation.\n",
    "\n",
    "Hint: Think carefully about the simplest way to do this!"
   ]
  },
  {
   "cell_type": "code",
   "execution_count": 5,
   "metadata": {
    "collapsed": true
   },
   "outputs": [],
   "source": [
    "# count the number of unique order_id's\n",
    "# note: you could assume this is 1834 since that's the maximum order_id, but it's best to check\n",
    "num_orders = len(set([row[0] for row in data]))     # 1834"
   ]
  },
  {
   "cell_type": "code",
   "execution_count": 6,
   "metadata": {},
   "outputs": [
    {
     "data": {
      "text/plain": [
       "['2',\n",
       " 'Chicken Bowl',\n",
       " '[Tomatillo-Red Chili Salsa (Hot), [Black Beans, Rice, Cheese, Sour Cream]]']"
      ]
     },
     "execution_count": 6,
     "metadata": {},
     "output_type": "execute_result"
    }
   ],
   "source": [
    "data[4][1:-1]"
   ]
  },
  {
   "cell_type": "code",
   "execution_count": 7,
   "metadata": {
    "collapsed": true
   },
   "outputs": [],
   "source": [
    "# create a list of prices\n",
    "# note: ignore the 'quantity' column because the 'item_price' takes quantity into account\n",
    "prices = [float(row[4][1:-1]) for row in data]      # strip the dollar sign and trailing space"
   ]
  },
  {
   "cell_type": "code",
   "execution_count": 8,
   "metadata": {},
   "outputs": [
    {
     "data": {
      "text/plain": [
       "18.81"
      ]
     },
     "execution_count": 8,
     "metadata": {},
     "output_type": "execute_result"
    }
   ],
   "source": [
    "# calculate the average price of an order and round to 2 digits\n",
    "round(sum(prices) / num_orders, 2)      # $18.81"
   ]
  },
  {
   "cell_type": "code",
   "execution_count": null,
   "metadata": {
    "collapsed": true
   },
   "outputs": [],
   "source": []
  },
  {
   "cell_type": "markdown",
   "metadata": {},
   "source": [
    "## PART 4: Create a list (or set) of all unique sodas and soft drinks that they sell.\n",
    "\n",
    "Note: Just look for 'Canned Soda' and 'Canned Soft Drink', and ignore other drinks like 'Izze'."
   ]
  },
  {
   "cell_type": "code",
   "execution_count": 9,
   "metadata": {
    "collapsed": true
   },
   "outputs": [],
   "source": [
    "sodas = []\n",
    "for row in data:\n",
    "    if 'Canned' in row[2]:\n",
    "        sodas.append(row[3][1:-1])      # strip the brackets"
   ]
  },
  {
   "cell_type": "code",
   "execution_count": 10,
   "metadata": {
    "collapsed": true
   },
   "outputs": [],
   "source": [
    "# equivalent list comprehension (using an 'if' condition)\n",
    "sodas = [row[3][1:-1] for row in data if 'Canned' in row[2]]"
   ]
  },
  {
   "cell_type": "code",
   "execution_count": 11,
   "metadata": {
    "collapsed": true
   },
   "outputs": [],
   "source": [
    "# create a set of unique sodas\n",
    "unique_sodas = set(sodas)"
   ]
  },
  {
   "cell_type": "code",
   "execution_count": null,
   "metadata": {
    "collapsed": true
   },
   "outputs": [],
   "source": []
  },
  {
   "cell_type": "markdown",
   "metadata": {},
   "source": [
    "## ADVANCED LEVEL\n"
   ]
  },
  {
   "cell_type": "markdown",
   "metadata": {},
   "source": [
    "### PART 5: Calculate the average number of toppings per burrito.\n",
    "\n",
    "Note: Let's ignore the 'quantity' column to simplify this task.\n",
    "\n",
    "Hint: Think carefully about the easiest way to count the number of toppings!\n"
   ]
  },
  {
   "cell_type": "code",
   "execution_count": 12,
   "metadata": {
    "collapsed": true
   },
   "outputs": [],
   "source": [
    "# keep a running total of burritos and toppings\n",
    "burrito_count = 0\n",
    "topping_count = 0"
   ]
  },
  {
   "cell_type": "code",
   "execution_count": 13,
   "metadata": {
    "collapsed": true
   },
   "outputs": [],
   "source": [
    "# calculate number of toppings by counting the commas and adding 1\n",
    "# note: x += 1 is equivalent to x = x + 1\n",
    "for row in data:\n",
    "    if 'Burrito' in row[2]:\n",
    "        burrito_count += 1\n",
    "        topping_count += (row[3].count(',') + 1)"
   ]
  },
  {
   "cell_type": "code",
   "execution_count": 14,
   "metadata": {},
   "outputs": [
    {
     "data": {
      "text/plain": [
       "5.4"
      ]
     },
     "execution_count": 14,
     "metadata": {},
     "output_type": "execute_result"
    }
   ],
   "source": [
    "# calculate the average topping count and round to 2 digits\n",
    "round(topping_count / float(burrito_count), 2)      # 5.40\n"
   ]
  },
  {
   "cell_type": "code",
   "execution_count": null,
   "metadata": {
    "collapsed": true
   },
   "outputs": [],
   "source": []
  },
  {
   "cell_type": "markdown",
   "metadata": {},
   "source": [
    "## PART 6: Create a dictionary in which the keys represent chip orders and the values represent the total number of orders.\n",
    "\n",
    "Expected output: {'Chips and Roasted Chili-Corn Salsa': 18, ... }\n",
    "\n",
    "Note: Please take the 'quantity' column into account!\n",
    "\n",
    "Optional: Learn how to use 'defaultdict' to simplify your code."
   ]
  },
  {
   "cell_type": "code",
   "execution_count": 15,
   "metadata": {
    "collapsed": true
   },
   "outputs": [],
   "source": [
    "# start with an empty dictionary\n",
    "chips = {}\n"
   ]
  },
  {
   "cell_type": "code",
   "execution_count": 16,
   "metadata": {
    "collapsed": true
   },
   "outputs": [],
   "source": [
    "# if chip order is not in dictionary, then add a new key/value pair\n",
    "# if chip order is already in dictionary, then update the value for that key\n",
    "for row in data:\n",
    "    if 'Chips' in row[2]:\n",
    "        if row[2] not in chips:\n",
    "            chips[row[2]] = int(row[1])     # this is a new key, so create key/value pair\n",
    "        else:\n",
    "            chips[row[2]] += int(row[1])    # this is an existing key, so add to the value"
   ]
  },
  {
   "cell_type": "code",
   "execution_count": 17,
   "metadata": {
    "collapsed": true
   },
   "outputs": [],
   "source": [
    "# defaultdict saves you the trouble of checking whether a key already exists\n",
    "from collections import defaultdict\n",
    "dchips = defaultdict(int)\n",
    "for row in data:\n",
    "    if 'Chips' in row[2]:\n",
    "        dchips[row[2]] += int(row[1])"
   ]
  },
  {
   "cell_type": "code",
   "execution_count": null,
   "metadata": {
    "collapsed": true
   },
   "outputs": [],
   "source": []
  },
  {
   "cell_type": "code",
   "execution_count": null,
   "metadata": {
    "collapsed": true
   },
   "outputs": [],
   "source": []
  },
  {
   "cell_type": "code",
   "execution_count": null,
   "metadata": {
    "collapsed": true
   },
   "outputs": [],
   "source": []
  },
  {
   "cell_type": "markdown",
   "metadata": {},
   "source": [
    "## BONUS: Think of a question about this data that interests you, and then answer it!\n"
   ]
  },
  {
   "cell_type": "code",
   "execution_count": null,
   "metadata": {
    "collapsed": true
   },
   "outputs": [],
   "source": []
  },
  {
   "cell_type": "code",
   "execution_count": null,
   "metadata": {
    "collapsed": true
   },
   "outputs": [],
   "source": []
  },
  {
   "cell_type": "code",
   "execution_count": null,
   "metadata": {
    "collapsed": true
   },
   "outputs": [],
   "source": []
  },
  {
   "cell_type": "code",
   "execution_count": null,
   "metadata": {
    "collapsed": true
   },
   "outputs": [],
   "source": []
  }
 ],
 "metadata": {
  "anaconda-cloud": {},
  "kernelspec": {
   "display_name": "Python [Root]",
   "language": "python",
   "name": "Python [Root]"
  },
  "language_info": {
   "codemirror_mode": {
    "name": "ipython",
    "version": 2
   },
   "file_extension": ".py",
   "mimetype": "text/x-python",
   "name": "python",
   "nbconvert_exporter": "python",
   "pygments_lexer": "ipython2",
   "version": "2.7.12"
  }
 },
 "nbformat": 4,
 "nbformat_minor": 2
}
